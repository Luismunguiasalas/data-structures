{
 "metadata": {
  "language_info": {
   "codemirror_mode": {
    "name": "ipython",
    "version": 3
   },
   "file_extension": ".py",
   "mimetype": "text/x-python",
   "name": "python",
   "nbconvert_exporter": "python",
   "pygments_lexer": "ipython3",
   "version": "3.8.5-final"
  },
  "orig_nbformat": 2,
  "kernelspec": {
   "name": "python3",
   "display_name": "Python 3.8.5 64-bit ('base': conda)",
   "metadata": {
    "interpreter": {
     "hash": "298e7f1195cd23b17b2fdfab729c243b5ef1c973771016dbf6662dc9baf69dd6"
    }
   }
  }
 },
 "nbformat": 4,
 "nbformat_minor": 2,
 "cells": [
  {
   "cell_type": "code",
   "execution_count": 1,
   "metadata": {},
   "outputs": [],
   "source": [
    "# create node for bst\n",
    "\n",
    "class Node:\n",
    "    def __init__(self,val):\n",
    "        self.val = val\n",
    "        self.parent= None\n",
    "        self.left_child = None\n",
    "        self.right_child = None\n",
    "\n",
    "    def insert(self,val):\n",
    "        current = self\n",
    "        parent = None\n",
    "        while current:\n",
    "            parent = current\n",
    "            if current.val > val:\n",
    "                current = current.left_child\n",
    "            else:\n",
    "                current = current.right_child\n",
    "        child = Node(val)\n",
    "        child.parent= parent\n",
    "        if parent.val > val:\n",
    "            parent.left_child = child\n",
    "        else:\n",
    "            parent.right_child = child\n",
    "\n",
    "    # the insert val takes an integer value\n",
    "    # the while loop will keep iterating until it reaches None\n",
    "        # if the current.val is greater than the inserted value\n",
    "            # the current node will iterate to the next value that is less than\n",
    "        # if the current.val is less than the inserted value\n",
    "            # the current node will iterate to the next value that is greater than\n",
    "    # the current node is stored in parent node while the current node is assigned\n",
    "    # the next node, depending relative to the inserted value\n",
    "    # the parent node in this case is the previous node, and it keeps updating at every iteration\n",
    "    # once current has reached None. the previous node(parent) will assign the inserted value to\n",
    "    # the left or right child. \n"
   ]
  },
  {
   "cell_type": "code",
   "execution_count": 3,
   "metadata": {},
   "outputs": [
    {
     "output_type": "stream",
     "name": "stdout",
     "text": [
      "100\n"
     ]
    }
   ],
   "source": [
    "# create a binary search tree class\n",
    "\n",
    "class BST:\n",
    "    def __init__(self,val):\n",
    "        self.root = Node(val)\n",
    "\n",
    "    def insert(self,val):\n",
    "        if self.root:\n",
    "            return self.root.insert(val)\n",
    "        else:\n",
    "            self.root = Node(val)\n",
    "            return True\n",
    "\n",
    "    # the insert function takes in an integer value and if root exist it\n",
    "    # calls the insert method of the root Node.\n",
    "    # of a root node is None, it assigns the integer value to the root node\n",
    "    # by first making it into a Node\n",
    "\n",
    "    \n",
    "bst = BST(100)\n",
    "print(bst.root.val)\n"
   ]
  },
  {
   "cell_type": "code",
   "execution_count": null,
   "metadata": {},
   "outputs": [],
   "source": []
  }
 ]
}