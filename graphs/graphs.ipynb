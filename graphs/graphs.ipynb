{
 "cells": [
  {
   "cell_type": "code",
   "execution_count": null,
   "metadata": {},
   "outputs": [],
   "source": [
    "# A linked list is a series of nodes and pointers that contain data\n",
    "# in a contiguous or non-contiguous form in memory that may be\n",
    "# unidirectional or bidirectional"
   ]
  },
  {
   "cell_type": "code",
   "execution_count": 2,
   "metadata": {},
   "outputs": [],
   "source": [
    "class Node:\n",
    "    def __init__(self,data):\n",
    "        self.data = data\n",
    "        self.next = None"
   ]
  },
  {
   "cell_type": "code",
   "execution_count": 3,
   "metadata": {},
   "outputs": [],
   "source": [
    "class LinkedList:\n",
    "    def __init__(self):\n",
    "        self.head = None\n",
    "        \n",
    "    def is_empty(self):\n",
    "        if self.head is None:\n",
    "            return True\n",
    "        return False\n",
    "    \n",
    "    def get_head(self):\n",
    "        if self.is_empty():return None\n",
    "        return self.head\n",
    "    \n",
    "    def print_list(self):\n",
    "        head = self.get_head()\n",
    "        while head:\n",
    "            print(head.data, end=\" > \")\n",
    "            head = head.next\n",
    "        print('None')\n",
    "        \n",
    "    def insert_at_head(self,data):\n",
    "        new_node = Node(data)\n",
    "        new_node.next = self.head\n",
    "        self.head = new_node\n",
    "        return self.head\n",
    "    \n",
    "    def search_node(self,target):\n",
    "        head = self.get_head()\n",
    "        while head:\n",
    "            if head.data == target:\n",
    "                return True\n",
    "            head = head.next\n",
    "        return False\n",
    "    \n",
    "    def insert_at_tail(self,data):\n",
    "        new_node = Node(data)\n",
    "        head = self.get_head()\n",
    "        \n",
    "        while head.next is not None:\n",
    "            head = head.next\n",
    "        head.next = new_node\n",
    "        return self.head\n",
    "    \n",
    "    def get_middle_node(self):\n",
    "        fast_pointer = self.get_head()\n",
    "        slow_pointer = self.get_head()\n",
    "        \n",
    "        while fast_pointer.next is not None and fast_pointer.next.next is not None:\n",
    "            fast_pointer = fast_pointer.next.next\n",
    "            slow_pointer = slow_pointer.next\n",
    "        print(slow_pointer.data)\n",
    "        return slow_pointer.data\n",
    "    \n",
    "    def detect_cycle(self):\n",
    "        fast_pointer = self.get_head()\n",
    "        slow_pointer = self.get_head()\n",
    "        \n",
    "        while fast_pointer.next is not None and fast_pointer.next.next is not None:\n",
    "            slow_pointer = slow_pointer.next\n",
    "            fast_pointer = fast_pointer.next.next\n",
    "            if slow_pointer.data == fast_pointer.data:return True\n",
    "        return False\n",
    "    \n",
    "    def reverse_linked_list(self):\n",
    "        previous_node = None\n",
    "        head = self.get_head()\n",
    "        while head is not None:\n",
    "            next_node = head.next\n",
    "            head.next = previous_node\n",
    "            previous_node = head\n",
    "            head = next_node\n",
    "            \n",
    "            self.head = previous_node\n",
    "        return self.previous_node\n",
    "    \n",
    "    def remove_duplicates(self):\n",
    "        outer_loop_node = self.get_head()\n",
    "        \n",
    "        while outer_loop_node:\n",
    "            inner_loop_node = outer_loop_node\n",
    "            while inner_loop_node:\n",
    "                if inner_loop_node.next:\n",
    "                    if outer_loop_node.data == inner_loop_node.next.data:\n",
    "                        next_node = inner_loop_node.next.next\n",
    "                        inner_loop_node.next = next_node\n",
    "                    else:\n",
    "                        inner_loop_node = inner_loop_node.next\n",
    "                else:\n",
    "                    inner_loop_node = inner_loop_node.next\n",
    "                    \n",
    "            outer_loop_node = outer_loop_node.next\n",
    "            \n",
    "        return self.head"
   ]
  },
  {
   "cell_type": "code",
   "execution_count": 40,
   "metadata": {},
   "outputs": [],
   "source": [
    "linkedlist = LinkedList()\n"
   ]
  },
  {
   "cell_type": "code",
   "execution_count": null,
   "metadata": {},
   "outputs": [],
   "source": [
    "# graph is a set of nodes connected to each other in the form of a network\n",
    "# via vertices and edges "
   ]
  },
  {
   "cell_type": "code",
   "execution_count": 4,
   "metadata": {},
   "outputs": [],
   "source": [
    "class Graph:\n",
    "    def __init__(self,vertices):\n",
    "        self.vertices = vertices\n",
    "        self.array = []\n",
    "        for n in range(vertices):\n",
    "            self.array.append(LinkedList())\n",
    "            \n",
    "    def add_edge(self,source,destination):\n",
    "        if (source < self.vertices and destination < self.vertices):\n",
    "            self.array[source].insert_at_head(destination)\n",
    "            \n",
    "        #for undirected graph, uncomment below\n",
    "        # self.array[destination].insert_at_head(source)\n",
    "\n",
    "    def print_graph(self):\n",
    "        print(\"adjacency list, directed graph\")\n",
    "\n",
    "        for i in range(self.vertices):\n",
    "            print(\"|\", i , end=\"| =>\")\n",
    "            head = self.array[i].get_head()\n",
    "            while head:\n",
    "                print(\"[\", head.data, end=\" ] -> \")\n",
    "                head = head.next\n",
    "            print(\"None\")\n",
    "            \n",
    "            \n",
    "            \n",
    "    "
   ]
  },
  {
   "cell_type": "code",
   "execution_count": 9,
   "metadata": {},
   "outputs": [],
   "source": [
    "graph = Graph(5)\n",
    "graph.add_edge(0,1)\n",
    "graph.add_edge(0,2)\n",
    "graph.add_edge(1,3)\n",
    "graph.add_edge(1,4)\n"
   ]
  },
  {
   "cell_type": "code",
   "execution_count": 8,
   "metadata": {},
   "outputs": [
    {
     "name": "stdout",
     "output_type": "stream",
     "text": [
      "adjacency list, directed graph\n",
      "| 0| =>[ 2 ] -> [ 1 ] -> None\n",
      "| 1| =>[ 4 ] -> [ 3 ] -> None\n",
      "| 2| =>None\n",
      "| 3| =>None\n",
      "| 4| =>None\n"
     ]
    }
   ],
   "source": [
    "def bfs_traversal(graph,source):\n",
    "    visited = [False] * graph.vertices\n",
    "    result, visited = bfs_traveral_helper(graph,source,visited)\n",
    "    \n",
    "    # visit remaining vertices, incase the graph is not connected.\n",
    "    for i in range(graph.vertices):\n",
    "        if visited[i] is False:\n",
    "            new_result, visited = bfs_traversal_helper(graph,source,visited)\n",
    "            result += new_result\n",
    "    return result\n",
    "    d\n",
    "    \n",
    "    \n",
    "    "
   ]
  },
  {
   "cell_type": "code",
   "execution_count": null,
   "metadata": {},
   "outputs": [],
   "source": [
    "  "
   ]
  }
 ],
 "metadata": {
  "kernelspec": {
   "display_name": "Python 3",
   "language": "python",
   "name": "python3"
  },
  "language_info": {
   "codemirror_mode": {
    "name": "ipython",
    "version": 3
   },
   "file_extension": ".py",
   "mimetype": "text/x-python",
   "name": "python",
   "nbconvert_exporter": "python",
   "pygments_lexer": "ipython3",
   "version": "3.8.5"
  }
 },
 "nbformat": 4,
 "nbformat_minor": 2
}
