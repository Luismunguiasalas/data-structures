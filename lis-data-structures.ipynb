{
 "metadata": {
  "language_info": {
   "codemirror_mode": {
    "name": "ipython",
    "version": 3
   },
   "file_extension": ".py",
   "mimetype": "text/x-python",
   "name": "python",
   "nbconvert_exporter": "python",
   "pygments_lexer": "ipython3",
   "version": "3.8.5-final"
  },
  "orig_nbformat": 2,
  "kernelspec": {
   "name": "python3",
   "display_name": "Python 3",
   "language": "python"
  }
 },
 "nbformat": 4,
 "nbformat_minor": 2,
 "cells": [
  {
   "cell_type": "code",
   "execution_count": null,
   "metadata": {},
   "outputs": [],
   "source": [
    "# remove even integers from list\n",
    "def remove_esven(list):\n",
    "    tmp = []\n",
    "    for n in list:\n",
    "        if n % 2: tmp.append(n)\n",
    "    return tmp\n",
    "list = [1,2,4,5,10,6,3]\n",
    "remove_esven(list)\n",
    "\n",
    "def remove_even(list):\n",
    "    return [n for n in list if n % 2]\n",
    "list = [1,2,4,5,10,6,3]\n",
    "remove_even(list)\n",
    "\n",
    "# time complexity O(n)\n",
    "# space complexity O(k)"
   ]
  },
  {
   "cell_type": "code",
   "execution_count": null,
   "metadata": {},
   "outputs": [],
   "source": [
    "# given to sorted lists, merge them into one list which should also be sorted\n",
    "def merge_lists(lst1,lst2):\n",
    "    lst1.extend(lst2)\n",
    "    lst1.sort()\n",
    "    return lst1\n",
    "\n",
    "list1 = [1,3,4,5]\n",
    "list2 = [2,6,7,8]\n",
    "merge_lists(list1,list2)\n",
    "# time complexity O(n)\n",
    "# space complexity O(n)"
   ]
  },
  {
   "cell_type": "code",
   "execution_count": null,
   "metadata": {},
   "outputs": [],
   "source": [
    "# find two numbers that add up to k\n",
    "\n",
    "def find_sum(list,target):\n",
    "    container = dict()\n",
    "    for n in list:\n",
    "        other = target - n\n",
    "        if other in container:\n",
    "            return [other, n]\n",
    "        else:\n",
    "            container[n] = n\n",
    "\n",
    "lst = [1,21,3,14,5,60,7,6]\n",
    "k = 81\n",
    "find_sum(lst,k)\n",
    "# time complexity o(n)\n",
    "# space complexity o(n)"
   ]
  },
  {
   "cell_type": "code",
   "execution_count": null,
   "metadata": {},
   "outputs": [],
   "source": [
    "# given a list, modify it so that each index stores the product of all elements in the list except the element at the index itself\n",
    "\n",
    "def find_product(list):\n",
    "    tmp = []\n",
    "    for n in list:\n",
    "        t = 1\n",
    "        for m in list:\n",
    "            if m != n:\n",
    "                t *= m \n",
    "        tmp.append(t)\n",
    "    return tmp\n",
    "\n",
    "def find_product(list):\n",
    "    tmp = []\n",
    "    left = 1\n",
    "    product = []\n",
    "    for n in list:\n",
    "        product.append(left)\n",
    "        left = left * n\n",
    "    print(product)\n",
    "    right = 1\n",
    "    for i in range(len(list)-1,-1,-1):\n",
    "        product[i] = product[i] * right\n",
    "        right = right * lst[i]\n",
    "    return product\n",
    "\n",
    "lst = [1,2,3,4]\n",
    "lst = [0,1,2,3]\n",
    "find_product(lst)\n"
   ]
  },
  {
   "cell_type": "code",
   "execution_count": null,
   "metadata": {},
   "outputs": [],
   "source": []
  }
 ]
}