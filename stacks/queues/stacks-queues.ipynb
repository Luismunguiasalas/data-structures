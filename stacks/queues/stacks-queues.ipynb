{
 "metadata": {
  "language_info": {
   "codemirror_mode": {
    "name": "ipython",
    "version": 3
   },
   "file_extension": ".py",
   "mimetype": "text/x-python",
   "name": "python",
   "nbconvert_exporter": "python",
   "pygments_lexer": "ipython3",
   "version": 3
  },
  "orig_nbformat": 2
 },
 "nbformat": 4,
 "nbformat_minor": 2,
 "cells": [
  {
   "cell_type": "code",
   "execution_count": null,
   "metadata": {},
   "outputs": [],
   "source": [
    "# implement a stack\n",
    "\n",
    "class myStack:\n",
    "    def __init__(self):\n",
    "        self.stack_list = []\n",
    "\n",
    "    def is_empty(self):\n",
    "        return self.size() == 0\n",
    "\n",
    "    def size(self):\n",
    "        return len(self.stack_list)\n",
    "\n",
    "    def top(self):\n",
    "        return self.stack_list[-1]\n",
    "    def push(self,data):\n",
    "        self.stack_list.append(data)\n",
    "    \n",
    "    def pop(self):\n",
    "        if self.is_empty():\n",
    "            return False\n",
    "        return self.stack_list.pop()\n"
   ]
  },
  {
   "cell_type": "code",
   "execution_count": null,
   "metadata": {},
   "outputs": [],
   "source": [
    "# implement a queue\n",
    " \n",
    "class Queue:\n",
    "    def __init__(self):\n",
    "        self.queue = []\n",
    "\n",
    "    def is_empty(self):\n",
    "        return self.size() == 0\n",
    "\n",
    "    def size(self):\n",
    "        return len(self.queue)\n",
    "\n",
    "    def start(self):\n",
    "        if self.is_empty():return False\n",
    "        return self.queue[0]\n",
    "\n",
    "    def end(self):\n",
    "        if self.is_empty(): return False\n",
    "        return self.queue[-1]\n",
    "\n",
    "    def enqueue(self,data):\n",
    "        self.queue.append(data)\n",
    "\n",
    "    def dequeue(self):\n",
    "        if self.is_empty():\n",
    "            return None\n",
    "        node = self.start()\n",
    "        self.queue.remove(self.start())\n",
    "        return node\n",
    "\n"
   ]
  }
 ]
}