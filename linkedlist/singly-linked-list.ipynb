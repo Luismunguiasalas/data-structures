{
 "metadata": {
  "language_info": {
   "codemirror_mode": {
    "name": "ipython",
    "version": 3
   },
   "file_extension": ".py",
   "mimetype": "text/x-python",
   "name": "python",
   "nbconvert_exporter": "python",
   "pygments_lexer": "ipython3",
   "version": "3.8.5-final"
  },
  "orig_nbformat": 2,
  "kernelspec": {
   "name": "python3",
   "display_name": "Python 3.8.5 64-bit ('base': conda)",
   "metadata": {
    "interpreter": {
     "hash": "298e7f1195cd23b17b2fdfab729c243b5ef1c973771016dbf6662dc9baf69dd6"
    }
   }
  }
 },
 "nbformat": 4,
 "nbformat_minor": 2,
 "cells": [
  {
   "cell_type": "code",
   "execution_count": null,
   "metadata": {},
   "outputs": [],
   "source": [
    "# to implement a linked list, you need a node class and a list class\n",
    "\n",
    "class Node:\n",
    "    def __init__(self,data):\n",
    "        self.data = data\n",
    "        self.next_pointer = None\n",
    "class LinkedList:\n",
    "    def __init__(self):\n",
    "        self.head = None\n"
   ]
  },
  {
   "cell_type": "code",
   "execution_count": 5,
   "metadata": {},
   "outputs": [
    {
     "output_type": "stream",
     "name": "stdout",
     "text": [
      "100 > 50 > 10 > None\n"
     ]
    }
   ],
   "source": [
    "# add helper functions\n",
    "class Node:\n",
    "    def __init__(self,data):\n",
    "        self.data = data\n",
    "        self.next = None\n",
    "\n",
    "class LinkedList:\n",
    "    def __init__(self):\n",
    "        self.head = None\n",
    "\n",
    "    def get_head(self):\n",
    "        return self.head\n",
    "\n",
    "    def insert_at_head(self,data):\n",
    "        node = Node(data)\n",
    "        node.next = self.head\n",
    "        self.head = node\n",
    "        return self.head\n",
    "    def is_empty(self):\n",
    "        if self.head == None:return True\n",
    "        return False\n",
    "\n",
    "    def print_list(self):\n",
    "        head = self.head\n",
    "        while head is not None:\n",
    "            print(head.data, end=\" > \")\n",
    "            head = head.next\n",
    "        print(\"None\")\n",
    "\n",
    "example = LinkedList()\n",
    "example.insert_at_head(10)\n",
    "example.insert_at_head(50)\n",
    "example.insert_at_head(100)\n",
    "example.print_list()"
   ]
  },
  {
   "cell_type": "code",
   "execution_count": null,
   "metadata": {},
   "outputs": [],
   "source": []
  }
 ]
}