{
 "metadata": {
  "language_info": {
   "codemirror_mode": {
    "name": "ipython",
    "version": 3
   },
   "file_extension": ".py",
   "mimetype": "text/x-python",
   "name": "python",
   "nbconvert_exporter": "python",
   "pygments_lexer": "ipython3",
   "version": "3.8.5-final"
  },
  "orig_nbformat": 2,
  "kernelspec": {
   "name": "python3",
   "display_name": "Python 3.8.5 64-bit ('base': conda)",
   "metadata": {
    "interpreter": {
     "hash": "298e7f1195cd23b17b2fdfab729c243b5ef1c973771016dbf6662dc9baf69dd6"
    }
   }
  }
 },
 "nbformat": 4,
 "nbformat_minor": 2,
 "cells": [
  {
   "cell_type": "code",
   "execution_count": null,
   "metadata": {},
   "outputs": [],
   "source": [
    "# to implement a linked list, you need a node class and a list class\n",
    "\n",
    "class Node:\n",
    "    def __init__(self,data):\n",
    "        self.data = data\n",
    "        self.next_pointer = None\n",
    "class LinkedList:\n",
    "    def __init__(self):\n",
    "        self.head = None\n"
   ]
  },
  {
   "cell_type": "code",
   "execution_count": 5,
   "metadata": {},
   "outputs": [
    {
     "output_type": "stream",
     "name": "stdout",
     "text": [
      "100 > 50 > 10 > None\n"
     ]
    }
   ],
   "source": [
    "# add helper functions\n",
    "class Node:\n",
    "    def __init__(self,data):\n",
    "        self.data = data\n",
    "        self.next = None\n",
    "\n",
    "class LinkedList:\n",
    "    def __init__(self):\n",
    "        self.head = None\n",
    "\n",
    "    def get_head(self):\n",
    "        return self.head\n",
    "\n",
    "    def insert_at_head(self,data):\n",
    "        node = Node(data)\n",
    "        node.next = self.head\n",
    "        self.head = node\n",
    "        return self.head\n",
    "    def is_empty(self):\n",
    "        if self.head == None:return True\n",
    "        return False\n",
    "\n",
    "    def print_list(self):\n",
    "        head = self.head\n",
    "        while head is not None:\n",
    "            print(head.data, end=\" > \")\n",
    "            head = head.next\n",
    "        print(\"None\")\n",
    "\n",
    "example = LinkedList()\n",
    "example.insert_at_head(10)\n",
    "example.insert_at_head(50)\n",
    "example.insert_at_head(100)\n",
    "example.print_list()"
   ]
  },
  {
   "cell_type": "code",
   "execution_count": 7,
   "metadata": {},
   "outputs": [
    {
     "output_type": "stream",
     "name": "stdout",
     "text": [
      "20 > 10 > 5 > 1 > None\n1 > 5 > 10 > 20 > None\n"
     ]
    }
   ],
   "source": [
    "# add insert at tail function\n",
    "class Node:\n",
    "    def __init__(self,data):\n",
    "        self.data = data\n",
    "        self.next = None\n",
    "\n",
    "class LinkedList:\n",
    "    def __init__(self):\n",
    "        self.head = None\n",
    "\n",
    "    def is_empty(self):\n",
    "        if self.head == None:return True\n",
    "        return False\n",
    "\n",
    "    def get_head(self):\n",
    "        return self.head\n",
    "    \n",
    "    def insert_at_head(self,data):\n",
    "        node = Node(data)\n",
    "        node.next = self.head\n",
    "        self.head = node\n",
    "        return self.head\n",
    "\n",
    "    def insert_at_tail(self,data):\n",
    "        node = Node(data)\n",
    "        if self.is_empty():\n",
    "            self.head = node\n",
    "            return\n",
    "        head = self.get_head()\n",
    "        while head.next is not None:\n",
    "            head = head.next\n",
    "        head.next = node\n",
    "    \n",
    "    def print_list(self):\n",
    "        head = self.get_head()\n",
    "        while head is not None:\n",
    "            print(head.data, end=\" > \")\n",
    "            head = head.next\n",
    "        print(\"None\")\n",
    "\n",
    "    def search(self,target):\n",
    "        if self.is_empty(): return False\n",
    "        head = self.get_head()\n",
    "        while head is not None:\n",
    "            if head.data == target:return True\n",
    "            head = head.next\n",
    "        return False\n",
    "\n",
    "    def delete_at_head(self):\n",
    "        if self.is_empty():return \n",
    "        self.head = self.head.next\n",
    "\n",
    "    def delete_node(self,target):\n",
    "        if self.is_empty():return False\n",
    "        head = self.get_head()\n",
    "        prev = None\n",
    "        while head is not None:\n",
    "            if head.data == target:\n",
    "                prev.next = head.next\n",
    "                head.next = None\n",
    "                return True\n",
    "            prev = head\n",
    "            head = head.next\n",
    "        return False\n",
    "\n",
    "    def get_length(self):\n",
    "        counter = 0\n",
    "        head = self.get_head()\n",
    "        while head is not None:\n",
    "            counter += 1\n",
    "            head = head.next\n",
    "        return counter\n",
    "\n",
    "    def reverse_list(self):\n",
    "        prev = None\n",
    "        head = self.get_head()\n",
    "        while head is not None:\n",
    "            next = head.next\n",
    "            head.next = prev\n",
    "            prev = head\n",
    "            head = next\n",
    "\n",
    "            self.head = prev\n",
    "        return prev\n",
    "            \n",
    "    def detect_loop(self):\n",
    "        slow = self.get_head()\n",
    "        fast = self.get_head()\n",
    "        while fast is not None and fast.next is not None:\n",
    "            slow = slow.next\n",
    "            fast = fast.next.next\n",
    "            if slow.data == fast.data:return True\n",
    "        return False\n",
    "        \n",
    "linkedlist = LinkedList()\n",
    "linkedlist.insert_at_head(10)\n",
    "linkedlist.insert_at_head(20)\n",
    "linkedlist.insert_at_tail(5)\n",
    "linkedlist.insert_at_tail(1)\n",
    "# linkedlist.delete_node(1)\n",
    "# linkedlist.delete_node(10)\n",
    "# linkedlist.delete_at_head()\n",
    "linkedlist.print_list()\n",
    "linkedlist.reverse_list()\n",
    "linkedlist.print_list()"
   ]
  },
  {
   "cell_type": "code",
   "execution_count": 14,
   "metadata": {},
   "outputs": [
    {
     "output_type": "stream",
     "name": "stdout",
     "text": [
      "200 200\n"
     ]
    },
    {
     "output_type": "execute_result",
     "data": {
      "text/plain": [
       "True"
      ]
     },
     "metadata": {},
     "execution_count": 14
    }
   ],
   "source": [
    "class Node:\n",
    "    def __init__(self,data):\n",
    "        self.data = data\n",
    "        self.next = None\n",
    "class LinkedList:\n",
    "    def __init__(self):\n",
    "        self.head = None\n",
    "\n",
    "\n",
    "    def insert_at_head(self,data):\n",
    "        new = Node(data)\n",
    "        if self.head is None:\n",
    "            self.head = new\n",
    "            return self.head\n",
    "        else:\n",
    "            new.next = self.head\n",
    "            self.head = new\n",
    "            return self.head\n",
    "\n",
    "    def print_list(self):\n",
    "        head = self.head\n",
    "        while head is not None:\n",
    "            print(head.data,end=\" > \")\n",
    "            head = head.next\n",
    "        print(\"None\")\n",
    "\n",
    "    def make_loop(self):\n",
    "        head = self.head\n",
    "        while head.next is not None:\n",
    "            head = head.next\n",
    "        head.next = self.head\n",
    "        return\n",
    "\n",
    "    def detect_loop(self):\n",
    "        slow = self.head\n",
    "        fast = self.head\n",
    "        while slow and fast and fast.next:\n",
    "            slow = slow.next\n",
    "            fast = fast.next.next\n",
    "            if slow.data == fast.data:\n",
    "                print(slow.data,fast.data)\n",
    "                return True\n",
    "        return False\n",
    "        # O(n) time\n",
    "\n",
    "listt = LinkedList()\n",
    "listt.insert_at_head(10)\n",
    "listt.insert_at_head(100)\n",
    "listt.insert_at_head(200)\n",
    "listt.make_loop()\n",
    "listt.detect_loop()\n",
    "# listt.print_list()"
   ]
  },
  {
   "cell_type": "code",
   "execution_count": null,
   "metadata": {},
   "outputs": [],
   "source": [
    "\n"
   ]
  }
 ]
}