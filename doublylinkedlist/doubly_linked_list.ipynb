{
 "metadata": {
  "language_info": {
   "codemirror_mode": {
    "name": "ipython",
    "version": 3
   },
   "file_extension": ".py",
   "mimetype": "text/x-python",
   "name": "python",
   "nbconvert_exporter": "python",
   "pygments_lexer": "ipython3",
   "version": "3.8.5-final"
  },
  "orig_nbformat": 2,
  "kernelspec": {
   "name": "python3",
   "display_name": "Python 3.8.5 64-bit ('base': conda)",
   "metadata": {
    "interpreter": {
     "hash": "298e7f1195cd23b17b2fdfab729c243b5ef1c973771016dbf6662dc9baf69dd6"
    }
   }
  }
 },
 "nbformat": 4,
 "nbformat_minor": 2,
 "cells": [
  {
   "cell_type": "code",
   "execution_count": 47,
   "metadata": {},
   "outputs": [
    {
     "output_type": "stream",
     "name": "stdout",
     "text": [
      "10\n100\n1000 > 200 > 100 > 10 > None\n"
     ]
    }
   ],
   "source": [
    "# doubly linked list\n",
    "\n",
    "class Node:\n",
    "    def __init__(self,data):\n",
    "        self.data = data\n",
    "        self.prev = None\n",
    "        self.next = None\n",
    "\n",
    "class DoublyLinkedList:\n",
    "    def __init__(self):\n",
    "        self.head = None\n",
    "        self.tail = None\n",
    "\n",
    "    def get_head(self):\n",
    "        return self.head\n",
    "\n",
    "    def get_tails(self):\n",
    "        return self.tail\n",
    "    \n",
    "    def is_empty(self):\n",
    "        if self.head == None:return True\n",
    "        return False\n",
    "    \n",
    "    def insert_at_head(self,data):\n",
    "        node = Node(data)\n",
    "\n",
    "        if self.is_empty(): \n",
    "            self.head = node\n",
    "            self.head.next = self.tail\n",
    "            return self.head\n",
    "\n",
    "        head = self.get_head()\n",
    "\n",
    "        if self.tail is None:\n",
    "            self.tail = head\n",
    "            self.tail.prev = node\n",
    "            node.next = self.tail\n",
    "        else:\n",
    "            node.next = head\n",
    "            head.prev = node\n",
    "\n",
    "        self.head = node\n",
    "        return self.head\n",
    "\n",
    "    def print_list(self):\n",
    "        head = self.get_head()\n",
    "        while head is not None:\n",
    "            print(head.data, end=\" > \")\n",
    "            head = head.next\n",
    "        print(\"None\")\n",
    "\n",
    "linkedlist = DoublyLinkedList()\n",
    "linkedlist.insert_at_head(10)\n",
    "linkedlist.insert_at_head(100)\n",
    "linkedlist.insert_at_head(200)\n",
    "linkedlist.insert_at_head(1000)\n",
    "tail=linkedlist.get_tails()\n",
    "linkedlist.print_list()"
   ]
  }
 ]
}